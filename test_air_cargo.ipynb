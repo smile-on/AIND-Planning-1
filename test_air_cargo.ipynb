{
 "cells": [
  {
   "cell_type": "code",
   "execution_count": 1,
   "metadata": {
    "collapsed": false
   },
   "outputs": [
    {
     "name": "stderr",
     "output_type": "stream",
     "text": [
      "..FF\n",
      "======================================================================\n",
      "FAIL: test_AC_result (tests.test_my_air_cargo_problems.TestAirCargoMethods)\n",
      "----------------------------------------------------------------------\n",
      "Traceback (most recent call last):\n",
      "  File \"/home/sl/Desktop/learn/AI/AIND/proj/aind-planning/tests/test_my_air_cargo_problems.py\", line 76, in test_AC_result\n",
      "    self.assertTrue(expr('In(C1, P1)') in fs.pos)\n",
      "AssertionError: False is not true\n",
      "\n",
      "======================================================================\n",
      "FAIL: test_h_ignore_preconditions (tests.test_my_air_cargo_problems.TestAirCargoMethods)\n",
      "----------------------------------------------------------------------\n",
      "Traceback (most recent call last):\n",
      "  File \"/home/sl/Desktop/learn/AI/AIND/proj/aind-planning/tests/test_my_air_cargo_problems.py\", line 81, in test_h_ignore_preconditions\n",
      "    self.assertEqual(self.p1.h_ignore_preconditions(n),2)\n",
      "AssertionError: 0 != 2\n",
      "\n",
      "----------------------------------------------------------------------\n",
      "Ran 4 tests in 0.032s\n",
      "\n",
      "FAILED (failures=2)\n"
     ]
    },
    {
     "data": {
      "text/plain": [
       "<unittest.runner.TextTestResult run=4 errors=0 failures=2>"
      ]
     },
     "execution_count": 1,
     "metadata": {},
     "output_type": "execute_result"
    }
   ],
   "source": [
    "from unittest import *\n",
    "from importlib import reload\n",
    "import tests.test_my_air_cargo_problems\n",
    "reload(tests.test_my_air_cargo_problems)\n",
    "import logging\n",
    "FORMAT = '%(asctime)-15s %(levelname)-8s %(message)s'\n",
    "logging.basicConfig(format=FORMAT, level=logging.DEBUG, filename='test_air_cargo.log', filemode='w+')\n",
    "\n",
    "ts = tests.test_my_air_cargo_problems.TestAirCargoMethods()\n",
    "suite = TestLoader().loadTestsFromModule(ts)\n",
    "TextTestRunner().run(suite)"
   ]
  },
  {
   "cell_type": "code",
   "execution_count": 1,
   "metadata": {
    "collapsed": false
   },
   "outputs": [
    {
     "name": "stderr",
     "output_type": "stream",
     "text": [
      "F.FF..EEEE\n",
      "======================================================================\n",
      "ERROR: test_ACP2_num_fluents (tests.test_my_air_cargo_problems.TestAirCargoProb2)\n",
      "----------------------------------------------------------------------\n",
      "Traceback (most recent call last):\n",
      "  File \"/home/sl/Desktop/learn/AI/AIND/proj/aind-planning/tests/test_my_air_cargo_problems.py\", line 32, in test_ACP2_num_fluents\n",
      "    self.assertEqual(len(self.p2.initial), 27)\n",
      "AttributeError: 'NoneType' object has no attribute 'initial'\n",
      "\n",
      "======================================================================\n",
      "ERROR: test_ACP2_num_requirements (tests.test_my_air_cargo_problems.TestAirCargoProb2)\n",
      "----------------------------------------------------------------------\n",
      "Traceback (most recent call last):\n",
      "  File \"/home/sl/Desktop/learn/AI/AIND/proj/aind-planning/tests/test_my_air_cargo_problems.py\", line 35, in test_ACP2_num_requirements\n",
      "    self.assertEqual(len(self.p2.goal),3)\n",
      "AttributeError: 'NoneType' object has no attribute 'goal'\n",
      "\n",
      "======================================================================\n",
      "ERROR: test_ACP3_num_fluents (tests.test_my_air_cargo_problems.TestAirCargoProb3)\n",
      "----------------------------------------------------------------------\n",
      "Traceback (most recent call last):\n",
      "  File \"/home/sl/Desktop/learn/AI/AIND/proj/aind-planning/tests/test_my_air_cargo_problems.py\", line 44, in test_ACP3_num_fluents\n",
      "    self.assertEqual(len(self.p3.initial), 32)\n",
      "AttributeError: 'NoneType' object has no attribute 'initial'\n",
      "\n",
      "======================================================================\n",
      "ERROR: test_ACP3_num_requirements (tests.test_my_air_cargo_problems.TestAirCargoProb3)\n",
      "----------------------------------------------------------------------\n",
      "Traceback (most recent call last):\n",
      "  File \"/home/sl/Desktop/learn/AI/AIND/proj/aind-planning/tests/test_my_air_cargo_problems.py\", line 47, in test_ACP3_num_requirements\n",
      "    self.assertEqual(len(self.p3.goal),4)\n",
      "AttributeError: 'NoneType' object has no attribute 'goal'\n",
      "\n",
      "======================================================================\n",
      "FAIL: test_AC_actions (tests.test_my_air_cargo_problems.TestAirCargoMethods)\n",
      "----------------------------------------------------------------------\n",
      "Traceback (most recent call last):\n",
      "  File \"/home/sl/Desktop/learn/AI/AIND/proj/aind-planning/tests/test_my_air_cargo_problems.py\", line 72, in test_AC_actions\n",
      "    self.assertEqual(len(self.p1.actions(self.p1.initial)), 4)\n",
      "AssertionError: 0 != 4\n",
      "\n",
      "======================================================================\n",
      "FAIL: test_AC_result (tests.test_my_air_cargo_problems.TestAirCargoMethods)\n",
      "----------------------------------------------------------------------\n",
      "Traceback (most recent call last):\n",
      "  File \"/home/sl/Desktop/learn/AI/AIND/proj/aind-planning/tests/test_my_air_cargo_problems.py\", line 76, in test_AC_result\n",
      "    self.assertTrue(expr('In(C1, P1)') in fs.pos)\n",
      "AssertionError: False is not true\n",
      "\n",
      "======================================================================\n",
      "FAIL: test_h_ignore_preconditions (tests.test_my_air_cargo_problems.TestAirCargoMethods)\n",
      "----------------------------------------------------------------------\n",
      "Traceback (most recent call last):\n",
      "  File \"/home/sl/Desktop/learn/AI/AIND/proj/aind-planning/tests/test_my_air_cargo_problems.py\", line 81, in test_h_ignore_preconditions\n",
      "    self.assertEqual(self.p1.h_ignore_preconditions(n),2)\n",
      "AssertionError: 0 != 2\n",
      "\n",
      "----------------------------------------------------------------------\n",
      "Ran 10 tests in 0.047s\n",
      "\n",
      "FAILED (failures=3, errors=4)\n"
     ]
    },
    {
     "data": {
      "text/plain": [
       "<unittest.runner.TextTestResult run=10 errors=4 failures=3>"
      ]
     },
     "execution_count": 1,
     "metadata": {},
     "output_type": "execute_result"
    }
   ],
   "source": [
    "from unittest import *\n",
    "from importlib import reload\n",
    "\n",
    "import tests.test_my_air_cargo_problems\n",
    "reload(tests.test_my_air_cargo_problems)\n",
    "suite = TestLoader().loadTestsFromModule(tests.test_my_air_cargo_problems)\n",
    "TextTestRunner().run(suite)"
   ]
  }
 ],
 "metadata": {
  "kernelspec": {
   "display_name": "Python 3",
   "language": "python",
   "name": "python3"
  },
  "language_info": {
   "codemirror_mode": {
    "name": "ipython",
    "version": 3
   },
   "file_extension": ".py",
   "mimetype": "text/x-python",
   "name": "python",
   "nbconvert_exporter": "python",
   "pygments_lexer": "ipython3",
   "version": "3.6.0"
  }
 },
 "nbformat": 4,
 "nbformat_minor": 2
}
