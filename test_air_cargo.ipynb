{
 "cells": [
  {
   "cell_type": "code",
   "execution_count": 1,
   "metadata": {
    "collapsed": false,
    "deletable": true,
    "editable": true,
    "scrolled": true
   },
   "outputs": [
    {
     "name": "stderr",
     "output_type": "stream",
     "text": [
      ".\n",
      "----------------------------------------------------------------------\n",
      "Ran 1 test in 0.008s\n",
      "\n",
      "OK\n"
     ]
    },
    {
     "data": {
      "text/plain": [
       "<unittest.runner.TextTestResult run=1 errors=0 failures=0>"
      ]
     },
     "execution_count": 1,
     "metadata": {},
     "output_type": "execute_result"
    }
   ],
   "source": [
    "# run test_h_ignore_preconditions\n",
    "from unittest import *\n",
    "import tests.test_my_air_cargo_problems\n",
    "\n",
    "import logging\n",
    "FORMAT = '%(asctime)-15s %(levelname)-8s %(message)s'\n",
    "logging.basicConfig(format=FORMAT, level=logging.DEBUG, filename='test_air_cargo.log', filemode='w+')\n",
    "\n",
    "suite = TestLoader().loadTestsFromName('tests.test_my_air_cargo_problems.TestAirCargoMethods.test_h_ignore_preconditions')\n",
    "TextTestRunner().run(suite)"
   ]
  },
  {
   "cell_type": "code",
   "execution_count": 2,
   "metadata": {
    "collapsed": false,
    "deletable": true,
    "editable": true,
    "scrolled": true
   },
   "outputs": [
    {
     "name": "stderr",
     "output_type": "stream",
     "text": [
      "....\n",
      "----------------------------------------------------------------------\n",
      "Ran 4 tests in 0.037s\n",
      "\n",
      "OK\n"
     ]
    },
    {
     "data": {
      "text/plain": [
       "<unittest.runner.TextTestResult run=4 errors=0 failures=0>"
      ]
     },
     "execution_count": 2,
     "metadata": {},
     "output_type": "execute_result"
    }
   ],
   "source": [
    "# run testCase TestAirCargoMethods\n",
    "from unittest import *\n",
    "from importlib import reload\n",
    "import tests.test_my_air_cargo_problems\n",
    "reload(tests.test_my_air_cargo_problems)\n",
    "import logging\n",
    "FORMAT = '%(asctime)-15s %(levelname)-8s %(message)s'\n",
    "logging.basicConfig(format=FORMAT, level=logging.DEBUG, filename='test_air_cargo.log', filemode='w+')\n",
    "\n",
    "ts = tests.test_my_air_cargo_problems.TestAirCargoMethods()\n",
    "suite = TestLoader().loadTestsFromModule(ts)\n",
    "TextTestRunner().run(suite)"
   ]
  },
  {
   "cell_type": "code",
   "execution_count": 3,
   "metadata": {
    "collapsed": false,
    "deletable": true,
    "editable": true
   },
   "outputs": [
    {
     "name": "stderr",
     "output_type": "stream",
     "text": [
      "..........\n",
      "----------------------------------------------------------------------\n",
      "Ran 10 tests in 0.116s\n",
      "\n",
      "OK\n"
     ]
    },
    {
     "data": {
      "text/plain": [
       "<unittest.runner.TextTestResult run=10 errors=0 failures=0>"
      ]
     },
     "execution_count": 3,
     "metadata": {},
     "output_type": "execute_result"
    }
   ],
   "source": [
    "#run test suite test_my_air_cargo_problems\n",
    "from unittest import *\n",
    "import tests.test_my_air_cargo_problems\n",
    "\n",
    "suite = TestLoader().loadTestsFromModule(tests.test_my_air_cargo_problems)\n",
    "TextTestRunner().run(suite)"
   ]
  }
 ],
 "metadata": {
  "kernelspec": {
   "display_name": "Python 3",
   "language": "python",
   "name": "python3"
  },
  "language_info": {
   "codemirror_mode": {
    "name": "ipython",
    "version": 3
   },
   "file_extension": ".py",
   "mimetype": "text/x-python",
   "name": "python",
   "nbconvert_exporter": "python",
   "pygments_lexer": "ipython3",
   "version": "3.6.0"
  }
 },
 "nbformat": 4,
 "nbformat_minor": 2
}
