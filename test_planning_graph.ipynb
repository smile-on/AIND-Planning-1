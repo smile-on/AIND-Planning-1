{
 "cells": [
  {
   "cell_type": "code",
   "execution_count": 28,
   "metadata": {
    "collapsed": false,
    "deletable": true,
    "editable": true
   },
   "outputs": [
    {
     "name": "stdout",
     "output_type": "stream",
     "text": [
      "use 1\n",
      "add 2\n"
     ]
    }
   ],
   "source": [
    "a = {1,2}\n",
    "b = {1,4}\n",
    "for i in a:\n",
    "    for j in b:\n",
    "        if i == j:\n",
    "            print(f'use {j}')\n",
    "            break\n",
    "    else:\n",
    "        print(f'add {i}')"
   ]
  },
  {
   "cell_type": "code",
   "execution_count": 1,
   "metadata": {
    "collapsed": false,
    "deletable": true,
    "editable": true
   },
   "outputs": [
    {
     "name": "stderr",
     "output_type": "stream",
     "text": [
      ".\n",
      "----------------------------------------------------------------------\n",
      "Ran 1 test in 0.006s\n",
      "\n",
      "OK\n"
     ]
    },
    {
     "data": {
      "text/plain": [
       "<unittest.runner.TextTestResult run=1 errors=0 failures=0>"
      ]
     },
     "execution_count": 1,
     "metadata": {},
     "output_type": "execute_result"
    }
   ],
   "source": [
    "# run single test\n",
    "from unittest import *\n",
    "import tests.test_my_planning_graph\n",
    "from importlib import reload\n",
    "reload(tests.test_my_planning_graph)\n",
    "\n",
    "import logging\n",
    "FORMAT = '%(asctime)-15s %(levelname)-8s %(message)s'\n",
    "logging.basicConfig(format=FORMAT, level=logging.DEBUG, filename='test_planning_graph.log', filemode='w+')\n",
    "\n",
    "test = TestLoader().loadTestsFromName('tests.test_my_planning_graph.'+\n",
    "                                      'TestPlanningGraphLevels.test_add_action_level') \n",
    "TextTestRunner().run(test)"
   ]
  },
  {
   "cell_type": "code",
   "execution_count": 3,
   "metadata": {
    "collapsed": false,
    "deletable": true,
    "editable": true
   },
   "outputs": [
    {
     "name": "stderr",
     "output_type": "stream",
     "text": [
      "EE\n",
      "======================================================================\n",
      "ERROR: test_add_action_level (tests.test_my_planning_graph.TestPlanningGraphLevels)\n",
      "----------------------------------------------------------------------\n",
      "Traceback (most recent call last):\n",
      "  File \"C:\\usr\\prj\\sl\\aind-planning\\tests\\test_my_planning_graph.py\", line 18, in setUp\n",
      "    self.pg = PlanningGraph(self.p, self.p.initial)\n",
      "  File \"C:\\usr\\prj\\sl\\aind-planning\\my_planning_graph.py\", line 224, in __init__\n",
      "    self.create_graph()\n",
      "  File \"C:\\usr\\prj\\sl\\aind-planning\\my_planning_graph.py\", line 288, in create_graph\n",
      "    self.update_a_mutex(self.a_levels[level])\n",
      "IndexError: list index out of range\n",
      "\n",
      "======================================================================\n",
      "ERROR: test_add_literal_level (tests.test_my_planning_graph.TestPlanningGraphLevels)\n",
      "----------------------------------------------------------------------\n",
      "Traceback (most recent call last):\n",
      "  File \"C:\\usr\\prj\\sl\\aind-planning\\tests\\test_my_planning_graph.py\", line 18, in setUp\n",
      "    self.pg = PlanningGraph(self.p, self.p.initial)\n",
      "  File \"C:\\usr\\prj\\sl\\aind-planning\\my_planning_graph.py\", line 224, in __init__\n",
      "    self.create_graph()\n",
      "  File \"C:\\usr\\prj\\sl\\aind-planning\\my_planning_graph.py\", line 288, in create_graph\n",
      "    self.update_a_mutex(self.a_levels[level])\n",
      "IndexError: list index out of range\n",
      "\n",
      "----------------------------------------------------------------------\n",
      "Ran 2 tests in 0.000s\n",
      "\n",
      "FAILED (errors=2)\n"
     ]
    },
    {
     "data": {
      "text/plain": [
       "<unittest.runner.TextTestResult run=2 errors=2 failures=0>"
      ]
     },
     "execution_count": 3,
     "metadata": {},
     "output_type": "execute_result"
    }
   ],
   "source": [
    "# run a testCase\n",
    "from unittest import *\n",
    "import tests.test_my_planning_graph\n",
    "\n",
    "import logging\n",
    "FORMAT = '%(asctime)-15s %(levelname)-8s %(message)s'\n",
    "logging.basicConfig(format=FORMAT, level=logging.DEBUG, filename='test_planning_graph.log', filemode='w+')\n",
    "\n",
    "ts = tests.test_my_planning_graph.TestPlanningGraphLevels()\n",
    "suite = TestLoader().loadTestsFromModule(ts)\n",
    "TextTestRunner().run(suite)"
   ]
  },
  {
   "cell_type": "code",
   "execution_count": 2,
   "metadata": {
    "collapsed": false,
    "deletable": true,
    "editable": true
   },
   "outputs": [
    {
     "name": "stderr",
     "output_type": "stream",
     "text": [
      "EEEEEEEEE\n",
      "======================================================================\n",
      "ERROR: test_levelsum (tests.test_my_planning_graph.TestPlanningGraphHeuristics)\n",
      "----------------------------------------------------------------------\n",
      "Traceback (most recent call last):\n",
      "  File \"C:\\usr\\prj\\sl\\aind-planning\\tests\\test_my_planning_graph.py\", line 121, in setUp\n",
      "    self.pg = PlanningGraph(self.p, self.p.initial)\n",
      "  File \"C:\\usr\\prj\\sl\\aind-planning\\my_planning_graph.py\", line 224, in __init__\n",
      "    self.create_graph()\n",
      "  File \"C:\\usr\\prj\\sl\\aind-planning\\my_planning_graph.py\", line 288, in create_graph\n",
      "    self.update_a_mutex(self.a_levels[level])\n",
      "IndexError: list index out of range\n",
      "\n",
      "======================================================================\n",
      "ERROR: test_add_action_level (tests.test_my_planning_graph.TestPlanningGraphLevels)\n",
      "----------------------------------------------------------------------\n",
      "Traceback (most recent call last):\n",
      "  File \"C:\\usr\\prj\\sl\\aind-planning\\tests\\test_my_planning_graph.py\", line 18, in setUp\n",
      "    self.pg = PlanningGraph(self.p, self.p.initial)\n",
      "  File \"C:\\usr\\prj\\sl\\aind-planning\\my_planning_graph.py\", line 224, in __init__\n",
      "    self.create_graph()\n",
      "  File \"C:\\usr\\prj\\sl\\aind-planning\\my_planning_graph.py\", line 288, in create_graph\n",
      "    self.update_a_mutex(self.a_levels[level])\n",
      "IndexError: list index out of range\n",
      "\n",
      "======================================================================\n",
      "ERROR: test_add_literal_level (tests.test_my_planning_graph.TestPlanningGraphLevels)\n",
      "----------------------------------------------------------------------\n",
      "Traceback (most recent call last):\n",
      "  File \"C:\\usr\\prj\\sl\\aind-planning\\tests\\test_my_planning_graph.py\", line 18, in setUp\n",
      "    self.pg = PlanningGraph(self.p, self.p.initial)\n",
      "  File \"C:\\usr\\prj\\sl\\aind-planning\\my_planning_graph.py\", line 224, in __init__\n",
      "    self.create_graph()\n",
      "  File \"C:\\usr\\prj\\sl\\aind-planning\\my_planning_graph.py\", line 288, in create_graph\n",
      "    self.update_a_mutex(self.a_levels[level])\n",
      "IndexError: list index out of range\n",
      "\n",
      "======================================================================\n",
      "ERROR: test_competing_needs_mutex (tests.test_my_planning_graph.TestPlanningGraphMutex)\n",
      "----------------------------------------------------------------------\n",
      "Traceback (most recent call last):\n",
      "  File \"C:\\usr\\prj\\sl\\aind-planning\\tests\\test_my_planning_graph.py\", line 39, in setUp\n",
      "    self.pg = PlanningGraph(self.p, self.p.initial)\n",
      "  File \"C:\\usr\\prj\\sl\\aind-planning\\my_planning_graph.py\", line 224, in __init__\n",
      "    self.create_graph()\n",
      "  File \"C:\\usr\\prj\\sl\\aind-planning\\my_planning_graph.py\", line 288, in create_graph\n",
      "    self.update_a_mutex(self.a_levels[level])\n",
      "IndexError: list index out of range\n",
      "\n",
      "======================================================================\n",
      "ERROR: test_inconsistent_effects_mutex (tests.test_my_planning_graph.TestPlanningGraphMutex)\n",
      "----------------------------------------------------------------------\n",
      "Traceback (most recent call last):\n",
      "  File \"C:\\usr\\prj\\sl\\aind-planning\\tests\\test_my_planning_graph.py\", line 39, in setUp\n",
      "    self.pg = PlanningGraph(self.p, self.p.initial)\n",
      "  File \"C:\\usr\\prj\\sl\\aind-planning\\my_planning_graph.py\", line 224, in __init__\n",
      "    self.create_graph()\n",
      "  File \"C:\\usr\\prj\\sl\\aind-planning\\my_planning_graph.py\", line 288, in create_graph\n",
      "    self.update_a_mutex(self.a_levels[level])\n",
      "IndexError: list index out of range\n",
      "\n",
      "======================================================================\n",
      "ERROR: test_inconsistent_support_mutex (tests.test_my_planning_graph.TestPlanningGraphMutex)\n",
      "----------------------------------------------------------------------\n",
      "Traceback (most recent call last):\n",
      "  File \"C:\\usr\\prj\\sl\\aind-planning\\tests\\test_my_planning_graph.py\", line 39, in setUp\n",
      "    self.pg = PlanningGraph(self.p, self.p.initial)\n",
      "  File \"C:\\usr\\prj\\sl\\aind-planning\\my_planning_graph.py\", line 224, in __init__\n",
      "    self.create_graph()\n",
      "  File \"C:\\usr\\prj\\sl\\aind-planning\\my_planning_graph.py\", line 288, in create_graph\n",
      "    self.update_a_mutex(self.a_levels[level])\n",
      "IndexError: list index out of range\n",
      "\n",
      "======================================================================\n",
      "ERROR: test_interference_mutex (tests.test_my_planning_graph.TestPlanningGraphMutex)\n",
      "----------------------------------------------------------------------\n",
      "Traceback (most recent call last):\n",
      "  File \"C:\\usr\\prj\\sl\\aind-planning\\tests\\test_my_planning_graph.py\", line 39, in setUp\n",
      "    self.pg = PlanningGraph(self.p, self.p.initial)\n",
      "  File \"C:\\usr\\prj\\sl\\aind-planning\\my_planning_graph.py\", line 224, in __init__\n",
      "    self.create_graph()\n",
      "  File \"C:\\usr\\prj\\sl\\aind-planning\\my_planning_graph.py\", line 288, in create_graph\n",
      "    self.update_a_mutex(self.a_levels[level])\n",
      "IndexError: list index out of range\n",
      "\n",
      "======================================================================\n",
      "ERROR: test_negation_mutex (tests.test_my_planning_graph.TestPlanningGraphMutex)\n",
      "----------------------------------------------------------------------\n",
      "Traceback (most recent call last):\n",
      "  File \"C:\\usr\\prj\\sl\\aind-planning\\tests\\test_my_planning_graph.py\", line 39, in setUp\n",
      "    self.pg = PlanningGraph(self.p, self.p.initial)\n",
      "  File \"C:\\usr\\prj\\sl\\aind-planning\\my_planning_graph.py\", line 224, in __init__\n",
      "    self.create_graph()\n",
      "  File \"C:\\usr\\prj\\sl\\aind-planning\\my_planning_graph.py\", line 288, in create_graph\n",
      "    self.update_a_mutex(self.a_levels[level])\n",
      "IndexError: list index out of range\n",
      "\n",
      "======================================================================\n",
      "ERROR: test_serialize_mutex (tests.test_my_planning_graph.TestPlanningGraphMutex)\n",
      "----------------------------------------------------------------------\n",
      "Traceback (most recent call last):\n",
      "  File \"C:\\usr\\prj\\sl\\aind-planning\\tests\\test_my_planning_graph.py\", line 39, in setUp\n",
      "    self.pg = PlanningGraph(self.p, self.p.initial)\n",
      "  File \"C:\\usr\\prj\\sl\\aind-planning\\my_planning_graph.py\", line 224, in __init__\n",
      "    self.create_graph()\n",
      "  File \"C:\\usr\\prj\\sl\\aind-planning\\my_planning_graph.py\", line 288, in create_graph\n",
      "    self.update_a_mutex(self.a_levels[level])\n",
      "IndexError: list index out of range\n",
      "\n",
      "----------------------------------------------------------------------\n",
      "Ran 9 tests in 0.035s\n",
      "\n",
      "FAILED (errors=9)\n"
     ]
    },
    {
     "data": {
      "text/plain": [
       "<unittest.runner.TextTestResult run=9 errors=9 failures=0>"
      ]
     },
     "execution_count": 2,
     "metadata": {},
     "output_type": "execute_result"
    }
   ],
   "source": [
    "#run all tests in the suite\n",
    "from unittest import *\n",
    "import tests.test_my_planning_graph\n",
    "\n",
    "suite = TestLoader().loadTestsFromModule(tests.test_my_planning_graph)\n",
    "TextTestRunner().run(suite)"
   ]
  }
 ],
 "metadata": {
  "kernelspec": {
   "display_name": "Python 3",
   "language": "python",
   "name": "python3"
  },
  "language_info": {
   "codemirror_mode": {
    "name": "ipython",
    "version": 3
   },
   "file_extension": ".py",
   "mimetype": "text/x-python",
   "name": "python",
   "nbconvert_exporter": "python",
   "pygments_lexer": "ipython3",
   "version": "3.6.0"
  }
 },
 "nbformat": 4,
 "nbformat_minor": 2
}
