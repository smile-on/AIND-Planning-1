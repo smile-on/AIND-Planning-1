{
 "cells": [
  {
   "cell_type": "code",
   "execution_count": null,
   "metadata": {
    "collapsed": false,
    "deletable": true,
    "editable": true
   },
   "outputs": [],
   "source": []
  },
  {
   "cell_type": "code",
   "execution_count": 1,
   "metadata": {
    "collapsed": false,
    "deletable": true,
    "editable": true
   },
   "outputs": [
    {
     "name": "stderr",
     "output_type": "stream",
     "text": [
      ".\n",
      "----------------------------------------------------------------------\n",
      "Ran 1 test in 0.006s\n",
      "\n",
      "OK\n"
     ]
    },
    {
     "data": {
      "text/plain": [
       "<unittest.runner.TextTestResult run=1 errors=0 failures=0>"
      ]
     },
     "execution_count": 1,
     "metadata": {},
     "output_type": "execute_result"
    }
   ],
   "source": [
    "# run single test\n",
    "from unittest import *\n",
    "import tests.test_my_planning_graph\n",
    "from importlib import reload\n",
    "reload(tests.test_my_planning_graph)\n",
    "\n",
    "import logging\n",
    "FORMAT = '%(asctime)-15s %(levelname)-8s %(message)s'\n",
    "logging.basicConfig(format=FORMAT, level=logging.DEBUG, filename='test_planning_graph.log', filemode='w+')\n",
    "\n",
    "test = TestLoader().loadTestsFromName('tests.test_my_planning_graph.'+\n",
    "                                      'TestPlanningGraphHeuristics.test_levelsum') \n",
    "TextTestRunner().run(test)"
   ]
  },
  {
   "cell_type": "code",
   "execution_count": 2,
   "metadata": {
    "collapsed": false,
    "deletable": true,
    "editable": true
   },
   "outputs": [
    {
     "name": "stderr",
     "output_type": "stream",
     "text": [
      ".\n",
      "----------------------------------------------------------------------\n",
      "Ran 1 test in 0.008s\n",
      "\n",
      "OK\n"
     ]
    },
    {
     "data": {
      "text/plain": [
       "<unittest.runner.TextTestResult run=1 errors=0 failures=0>"
      ]
     },
     "execution_count": 2,
     "metadata": {},
     "output_type": "execute_result"
    }
   ],
   "source": [
    "# run a testCase\n",
    "from unittest import *\n",
    "import tests.test_my_planning_graph\n",
    "\n",
    "import logging\n",
    "FORMAT = '%(asctime)-15s %(levelname)-8s %(message)s'\n",
    "logging.basicConfig(format=FORMAT, level=logging.DEBUG, filename='test_planning_graph.log', filemode='w+')\n",
    "\n",
    "ts = tests.test_my_planning_graph.TestPlanningGraphHeuristics()\n",
    "suite = TestLoader().loadTestsFromModule(ts)\n",
    "TextTestRunner().run(suite)"
   ]
  },
  {
   "cell_type": "code",
   "execution_count": 3,
   "metadata": {
    "collapsed": false,
    "deletable": true,
    "editable": true
   },
   "outputs": [
    {
     "name": "stderr",
     "output_type": "stream",
     "text": [
      "..........\n",
      "----------------------------------------------------------------------\n",
      "Ran 10 tests in 0.066s\n",
      "\n",
      "OK\n"
     ]
    },
    {
     "data": {
      "text/plain": [
       "<unittest.runner.TextTestResult run=10 errors=0 failures=0>"
      ]
     },
     "execution_count": 3,
     "metadata": {},
     "output_type": "execute_result"
    }
   ],
   "source": [
    "#run all tests in the suite\n",
    "from unittest import *\n",
    "import tests.test_my_planning_graph\n",
    "\n",
    "suite = TestLoader().loadTestsFromModule(tests.test_my_planning_graph)\n",
    "TextTestRunner().run(suite)"
   ]
  }
 ],
 "metadata": {
  "kernelspec": {
   "display_name": "Python 3",
   "language": "python",
   "name": "python3"
  },
  "language_info": {
   "codemirror_mode": {
    "name": "ipython",
    "version": 3
   },
   "file_extension": ".py",
   "mimetype": "text/x-python",
   "name": "python",
   "nbconvert_exporter": "python",
   "pygments_lexer": "ipython3",
   "version": "3.6.0"
  }
 },
 "nbformat": 4,
 "nbformat_minor": 2
}
