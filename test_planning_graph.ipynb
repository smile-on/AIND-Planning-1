{
 "cells": [
  {
   "cell_type": "code",
   "execution_count": 8,
   "metadata": {
    "collapsed": false,
    "deletable": true,
    "editable": true
   },
   "outputs": [
    {
     "data": {
      "text/plain": [
       "True"
      ]
     },
     "execution_count": 8,
     "metadata": {},
     "output_type": "execute_result"
    }
   ],
   "source": [
    "False == False"
   ]
  },
  {
   "cell_type": "code",
   "execution_count": 1,
   "metadata": {
    "collapsed": false,
    "deletable": true,
    "editable": true
   },
   "outputs": [
    {
     "name": "stderr",
     "output_type": "stream",
     "text": [
      ".\n",
      "----------------------------------------------------------------------\n",
      "Ran 1 test in 0.007s\n",
      "\n",
      "OK\n"
     ]
    },
    {
     "data": {
      "text/plain": [
       "<unittest.runner.TextTestResult run=1 errors=0 failures=0>"
      ]
     },
     "execution_count": 1,
     "metadata": {},
     "output_type": "execute_result"
    }
   ],
   "source": [
    "# run single test\n",
    "from unittest import *\n",
    "import tests.test_my_planning_graph\n",
    "from importlib import reload\n",
    "reload(tests.test_my_planning_graph)\n",
    "\n",
    "import logging\n",
    "FORMAT = '%(asctime)-15s %(levelname)-8s %(message)s'\n",
    "logging.basicConfig(format=FORMAT, level=logging.DEBUG, filename='test_planning_graph.log', filemode='w+')\n",
    "\n",
    "test = TestLoader().loadTestsFromName('tests.test_my_planning_graph.'+\n",
    "                                      'TestPlanningGraphMutex.test_interference_mutex') \n",
    "TextTestRunner().run(test)"
   ]
  },
  {
   "cell_type": "code",
   "execution_count": 2,
   "metadata": {
    "collapsed": false,
    "deletable": true,
    "editable": true
   },
   "outputs": [
    {
     "name": "stderr",
     "output_type": "stream",
     "text": [
      "...F..\n",
      "======================================================================\n",
      "FAIL: test_interference_mutex (tests.test_my_planning_graph.TestPlanningGraphMutex)\n",
      "----------------------------------------------------------------------\n",
      "Traceback (most recent call last):\n",
      "  File \"/home/sl/Desktop/learn/AI/AIND/proj/aind-planning/tests/test_my_planning_graph.py\", line 91, in test_interference_mutex\n",
      "    \"Precondition from one node opposite of effect of other node should be mutex\")\n",
      "AssertionError: False is not true : Precondition from one node opposite of effect of other node should be mutex\n",
      "\n",
      "----------------------------------------------------------------------\n",
      "Ran 6 tests in 0.042s\n",
      "\n",
      "FAILED (failures=1)\n"
     ]
    },
    {
     "data": {
      "text/plain": [
       "<unittest.runner.TextTestResult run=6 errors=0 failures=1>"
      ]
     },
     "execution_count": 2,
     "metadata": {},
     "output_type": "execute_result"
    }
   ],
   "source": [
    "# run a testCase\n",
    "from unittest import *\n",
    "import tests.test_my_planning_graph\n",
    "\n",
    "import logging\n",
    "FORMAT = '%(asctime)-15s %(levelname)-8s %(message)s'\n",
    "logging.basicConfig(format=FORMAT, level=logging.DEBUG, filename='test_planning_graph.log', filemode='w+')\n",
    "\n",
    "ts = tests.test_my_planning_graph.TestPlanningGraphMutex()\n",
    "suite = TestLoader().loadTestsFromModule(ts)\n",
    "TextTestRunner().run(suite)"
   ]
  },
  {
   "cell_type": "code",
   "execution_count": 5,
   "metadata": {
    "collapsed": true,
    "deletable": true,
    "editable": true
   },
   "outputs": [
    {
     "name": "stderr",
     "output_type": "stream",
     "text": [
      "F....FFF..\n",
      "======================================================================\n",
      "FAIL: test_levelsum (tests.test_my_planning_graph.TestPlanningGraphHeuristics)\n",
      "----------------------------------------------------------------------\n",
      "Traceback (most recent call last):\n",
      "  File \"/home/sl/Desktop/learn/AI/AIND/proj/aind-planning/tests/test_my_planning_graph.py\", line 138, in test_levelsum\n",
      "    self.assertEqual(self.pg.h_levelsum(), 1)\n",
      "AssertionError: 0 != 1\n",
      "\n",
      "======================================================================\n",
      "FAIL: test_inconsistent_effects_mutex (tests.test_my_planning_graph.TestPlanningGraphMutex)\n",
      "----------------------------------------------------------------------\n",
      "Traceback (most recent call last):\n",
      "  File \"/home/sl/Desktop/learn/AI/AIND/proj/aind-planning/tests/test_my_planning_graph.py\", line 85, in test_inconsistent_effects_mutex\n",
      "    \"Canceling effects not marked as mutex\")\n",
      "AssertionError: False is not true : Canceling effects not marked as mutex\n",
      "\n",
      "======================================================================\n",
      "FAIL: test_inconsistent_support_mutex (tests.test_my_planning_graph.TestPlanningGraphMutex)\n",
      "----------------------------------------------------------------------\n",
      "Traceback (most recent call last):\n",
      "  File \"/home/sl/Desktop/learn/AI/AIND/proj/aind-planning/tests/test_my_planning_graph.py\", line 115, in test_inconsistent_support_mutex\n",
      "    \"Mutex parent actions should result in inconsistent-support mutex\")\n",
      "AssertionError: False is not true : Mutex parent actions should result in inconsistent-support mutex\n",
      "\n",
      "======================================================================\n",
      "FAIL: test_interference_mutex (tests.test_my_planning_graph.TestPlanningGraphMutex)\n",
      "----------------------------------------------------------------------\n",
      "Traceback (most recent call last):\n",
      "  File \"/home/sl/Desktop/learn/AI/AIND/proj/aind-planning/tests/test_my_planning_graph.py\", line 91, in test_interference_mutex\n",
      "    \"Precondition from one node opposite of effect of other node should be mutex\")\n",
      "AssertionError: False is not true : Precondition from one node opposite of effect of other node should be mutex\n",
      "\n",
      "----------------------------------------------------------------------\n",
      "Ran 10 tests in 0.090s\n",
      "\n",
      "FAILED (failures=4)\n"
     ]
    },
    {
     "data": {
      "text/plain": [
       "<unittest.runner.TextTestResult run=10 errors=0 failures=4>"
      ]
     },
     "execution_count": 5,
     "metadata": {},
     "output_type": "execute_result"
    }
   ],
   "source": [
    "#run all tests in the suite\n",
    "from unittest import *\n",
    "import tests.test_my_planning_graph\n",
    "\n",
    "suite = TestLoader().loadTestsFromModule(tests.test_my_planning_graph)\n",
    "TextTestRunner().run(suite)"
   ]
  }
 ],
 "metadata": {
  "kernelspec": {
   "display_name": "Python 3",
   "language": "python",
   "name": "python3"
  },
  "language_info": {
   "codemirror_mode": {
    "name": "ipython",
    "version": 3
   },
   "file_extension": ".py",
   "mimetype": "text/x-python",
   "name": "python",
   "nbconvert_exporter": "python",
   "pygments_lexer": "ipython3",
   "version": "3.6.0"
  }
 },
 "nbformat": 4,
 "nbformat_minor": 2
}
